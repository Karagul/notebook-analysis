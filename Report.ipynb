{
 "cells": [
  {
   "cell_type": "code",
   "execution_count": 1,
   "metadata": {
    "collapsed": true
   },
   "outputs": [],
   "source": [
    "import pandas as pd"
   ]
  },
  {
   "cell_type": "markdown",
   "metadata": {},
   "source": [
    "# Summary\n",
    "\n",
    "\n",
    "**Task:** Prediction of bike rental counts using available features recoded both hourly and daily. Evaluation is performed via a 10% random sample with mean absolute error (MAE) used as the scoring metric.\n",
    "\n",
    "**Algorithm:** Gradient Boosted Decision Trees\n",
    "\n",
    "**Files:**\n",
    "\n",
    "- hour.csv : bike sharing counts aggregated on hourly basis. Records: 17379 hours\n",
    "- day.csv - bike sharing counts aggregated on daily basis. Records: 731 days\n",
    "\n",
    "**Data Source:** https://archive.ics.uci.edu/ml/datasets/Bike+Sharing+Dataset"
   ]
  },
  {
   "cell_type": "markdown",
   "metadata": {},
   "source": [
    "# Approach\n",
    "\n",
    "The general steps I took in this analysis are as follows:\n",
    "\n",
    "1. **Data Understanding:** Review information about the data available and, and how it related to the task at hand. Create tentative hypothesis to guide exploration. \n",
    "2. **Data Exploration:** Visualise target variable and relationships between the target variable and the other features available. \n",
    "3. **Data Cleaning and Transformation:** Handle any missing data and peculiarities that may effect the model fitting and perform any transformations necessary.  \n",
    "4. **Model Fitting:** Fitting model and tuning parameters. Also analyse feature importances in model fitting and test/train deviance plots\n",
    "5. **Model Evaluation:** Assess how well the fitted model generalises by carrying of cross validation.\n",
    "\n",
    "\n",
    "# Understanding\n",
    "\n",
    "It is know that the rental process is highly correlated to the environmental and seasonal settings. For instance, weather conditions, precipitation, day of week, season, hour of the day, etc.\n",
    "\n",
    "Therefore the following features are likely candidates to be of most interest in this task: \n",
    "\n",
    "* season : season (1:springer, 2:summer, 3:fall, 4:winter)\n",
    "* hr : hour (0 to 23)\n",
    "* workingday : if day is neither weekend nor holiday is 1, otherwise is 0.\n",
    "* temp/atemp : Normalized temperature/feeling temperature in Celsius. The values are divided to 41 (max)\n",
    "* weathersit : \n",
    "    - 1: Clear, Few clouds, Partly cloudy, Partly cloudy\n",
    "    - 2: Mist + Cloudy, Mist + Broken clouds, Mist + Few clouds, Mist\n",
    "    - 3: Light Snow, Light Rain + Thunderstorm + Scattered clouds, Light Rain + Scattered clouds\n",
    "    - 4: Heavy Rain + Ice Pallets + Thunderstorm + Mist, Snow + Fog\n",
    "* hum : Normalised humidity\n",
    "* windspeed : Normalised windspeed\n",
    "\n",
    "**Further Details of Dataset:** [README.txt](./data/raw/README.txt)\n",
    "\n",
    "\n",
    "# Exploration\n",
    "\n",
    "* [Explore Rentals by Hour.ipynb](./Explore Rentals by Hour.ipynb)\n",
    "* [Explore Rentals by Day.ipynb](./Explore Rentals by Day.ipynb)"
   ]
  },
  {
   "cell_type": "markdown",
   "metadata": {},
   "source": [
    "## Findings\n",
    "\n",
    "* In both data sets weather has an obvious impact on the rental count as well as season. \n",
    "* Daily rental count looks to be positively correlated with temp/atemp, and negatively correlated with windspeed.\n",
    "* Hourly rental count looks to be positively correlated with temp/atemp, and negatively correlated with humidity.\n",
    "* There is an obvious bimodal relationship to time of day as well as show below during commuting times."
   ]
  },
  {
   "cell_type": "markdown",
   "metadata": {},
   "source": [
    "# Data Cleaning and Transformation"
   ]
  },
  {
   "cell_type": "markdown",
   "metadata": {},
   "source": [
    "The data set appears to already have been well sanitised and the features themselves have already been normalised to a scale of [0, 1]. Therefore there is little to do in this stage with this data. "
   ]
  },
  {
   "cell_type": "markdown",
   "metadata": {},
   "source": [
    "# Prediction"
   ]
  },
  {
   "cell_type": "markdown",
   "metadata": {},
   "source": [
    "## By Day\n",
    "* [Predict Rentals by Day.ipynb](./Predict Rentals by Day.ipynb)"
   ]
  },
  {
   "cell_type": "markdown",
   "metadata": {},
   "source": [
    "### Error Metrics"
   ]
  },
  {
   "cell_type": "code",
   "execution_count": 2,
   "metadata": {
    "collapsed": false
   },
   "outputs": [
    {
     "data": {
      "text/html": [
       "<div>\n",
       "<table border=\"1\" class=\"dataframe\">\n",
       "  <thead>\n",
       "    <tr style=\"text-align: right;\">\n",
       "      <th></th>\n",
       "      <th>Scores</th>\n",
       "    </tr>\n",
       "  </thead>\n",
       "  <tbody>\n",
       "    <tr>\n",
       "      <th>MeanAbsoluteError</th>\n",
       "      <td>1137.927306</td>\n",
       "    </tr>\n",
       "    <tr>\n",
       "      <th>MedianAbsoluteError</th>\n",
       "      <td>1005.646595</td>\n",
       "    </tr>\n",
       "  </tbody>\n",
       "</table>\n",
       "</div>"
      ],
      "text/plain": [
       "                          Scores\n",
       "MeanAbsoluteError    1137.927306\n",
       "MedianAbsoluteError  1005.646595"
      ]
     },
     "execution_count": 2,
     "metadata": {},
     "output_type": "execute_result"
    }
   ],
   "source": [
    "pd.read_csv('data/results/RentalPredictionsByDay-MAEs.csv', index_col=0, names=['Scores'])"
   ]
  },
  {
   "cell_type": "markdown",
   "metadata": {},
   "source": [
    "### Feature Importances and Deviance"
   ]
  },
  {
   "cell_type": "markdown",
   "metadata": {},
   "source": [
    "![](./data/results/RentalPredictionsByDay-DevianceImportance.png)"
   ]
  },
  {
   "cell_type": "markdown",
   "metadata": {},
   "source": [
    "## By Hour"
   ]
  },
  {
   "cell_type": "markdown",
   "metadata": {
    "collapsed": true
   },
   "source": [
    "* [Predict Rentals by Hour.ipynb](./Predict Rentals by Hour.ipynb)"
   ]
  },
  {
   "cell_type": "code",
   "execution_count": 3,
   "metadata": {
    "collapsed": false
   },
   "outputs": [
    {
     "data": {
      "text/html": [
       "<div>\n",
       "<table border=\"1\" class=\"dataframe\">\n",
       "  <thead>\n",
       "    <tr style=\"text-align: right;\">\n",
       "      <th></th>\n",
       "      <th>Scores</th>\n",
       "    </tr>\n",
       "  </thead>\n",
       "  <tbody>\n",
       "    <tr>\n",
       "      <th>MeanAbsoluteError</th>\n",
       "      <td>72.930337</td>\n",
       "    </tr>\n",
       "    <tr>\n",
       "      <th>MedianAbsoluteError</th>\n",
       "      <td>44.325089</td>\n",
       "    </tr>\n",
       "  </tbody>\n",
       "</table>\n",
       "</div>"
      ],
      "text/plain": [
       "                        Scores\n",
       "MeanAbsoluteError    72.930337\n",
       "MedianAbsoluteError  44.325089"
      ]
     },
     "execution_count": 3,
     "metadata": {},
     "output_type": "execute_result"
    }
   ],
   "source": [
    "pd.read_csv('data/results/RentalPredictionsByHour-MAEs.csv', index_col=0, names=['Scores'])"
   ]
  },
  {
   "cell_type": "markdown",
   "metadata": {},
   "source": [
    "![](./data/results/RentalPredictionsByHour-DevianceImportance.png)"
   ]
  },
  {
   "cell_type": "markdown",
   "metadata": {},
   "source": [
    "# Evaluation\n"
   ]
  },
  {
   "cell_type": "markdown",
   "metadata": {},
   "source": [
    "## Cross Validation (using Mean Absolute Error)"
   ]
  },
  {
   "cell_type": "markdown",
   "metadata": {},
   "source": [
    "### By Day"
   ]
  },
  {
   "cell_type": "code",
   "execution_count": 4,
   "metadata": {
    "collapsed": false
   },
   "outputs": [
    {
     "data": {
      "text/plain": [
       "count      10.000000\n",
       "mean     1574.286833\n",
       "std       130.917235\n",
       "min      1335.975730\n",
       "25%      1509.937722\n",
       "50%      1570.112931\n",
       "75%      1624.928505\n",
       "max      1810.883460\n",
       "Name: Score, dtype: float64"
      ]
     },
     "execution_count": 4,
     "metadata": {},
     "output_type": "execute_result"
    }
   ],
   "source": [
    "res = pd.read_csv('data/results/RentalPredictionsByDay-CV.csv', names=['Fold', 'Score'])\n",
    "res['Score'].describe()"
   ]
  },
  {
   "cell_type": "markdown",
   "metadata": {},
   "source": [
    "### By Hour"
   ]
  },
  {
   "cell_type": "code",
   "execution_count": 5,
   "metadata": {
    "collapsed": false
   },
   "outputs": [
    {
     "data": {
      "text/plain": [
       "count     10.000000\n",
       "mean      83.164166\n",
       "std       12.819342\n",
       "min       67.916556\n",
       "25%       73.368066\n",
       "50%       81.068206\n",
       "75%       91.922432\n",
       "max      108.370040\n",
       "Name: Score, dtype: float64"
      ]
     },
     "execution_count": 5,
     "metadata": {},
     "output_type": "execute_result"
    }
   ],
   "source": [
    "res = pd.read_csv('data/results/RentalPredictionsByHour-CV.csv', names=['Fold', 'Score'])\n",
    "res['Score'].describe()"
   ]
  },
  {
   "cell_type": "markdown",
   "metadata": {},
   "source": [
    "# Conclusions\n",
    "\n",
    "This analysis used Gradient Boosting to predict rental counts by hour and by day.\n",
    "\n",
    "* Measures for the average absolute error are shown above along with the standard deviation of these cross validated error scores. This learner shows less spread in error scores when fit to the hourly data set over the daily data set, suggesting that the learner would generalise better to unseen data and thus make a better predictor for hourly rental counts than daily rental counts. \n",
    "\n",
    "* A look at the deviance plot for daily predictions also shows that the error in the gap between training and test set error increases as more estimators are added. This suggests that the daily rental model is overfitting to the training data, and may perform poorly on newly gathered daily rental data.   \n",
    "\n",
    "* From looking at feature importances, `weathersit` scored low on both daily and hourly rental predictions. This suggests that the learner is able to account for weather conditions well from other factors like temperature, humidity and windspeed."
   ]
  },
  {
   "cell_type": "code",
   "execution_count": null,
   "metadata": {
    "collapsed": true
   },
   "outputs": [],
   "source": []
  }
 ],
 "metadata": {
  "kernelspec": {
   "display_name": "Python 3",
   "language": "python",
   "name": "python3"
  },
  "language_info": {
   "codemirror_mode": {
    "name": "ipython",
    "version": 3
   },
   "file_extension": ".py",
   "mimetype": "text/x-python",
   "name": "python",
   "nbconvert_exporter": "python",
   "pygments_lexer": "ipython3",
   "version": "3.5.1"
  }
 },
 "nbformat": 4,
 "nbformat_minor": 0
}
